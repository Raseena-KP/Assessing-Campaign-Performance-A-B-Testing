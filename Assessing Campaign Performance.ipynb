{
 "cells": [
  {
   "cell_type": "markdown",
   "id": "12340591",
   "metadata": {},
   "source": [
    "# Assessing Campaign Performance"
   ]
  },
  {
   "cell_type": "markdown",
   "id": "1a244ddb",
   "metadata": {},
   "source": [
    "<b>About the dataset</b></br>\n",
    "The dataset consists of feature vectors belonging to 12,330 sessions. \n",
    "The dataset was formed so that each session \n",
    "would belong to a different user in a 1-year period to avoid \n",
    "any tendency to a specific campaign, special day, user \n",
    "profile, or period."
   ]
  },
  {
   "cell_type": "markdown",
   "id": "5a08dce9",
   "metadata": {},
   "source": [
    "The dataset consists of 10 numerical and 8 categorical attributes. \n",
    "The 'Revenue' attribute can be used as the class label. \n",
    "\n",
    "\"Administrative\", \"Administrative Duration\", \"Informational\", \"Informational Duration\", \"Product Related\" and \"Product Related Duration\" represent the number of different types of pages visited by the visitor in that session and total time spent in each of these page categories. The values of these features are derived from the URL information of the pages visited by the user and updated in real time when a user takes an action, e.g. moving from one page to another. The \"Bounce Rate\", \"Exit Rate\" and \"Page Value\" features represent the metrics measured by \"Google Analytics\" for each page in the e-commerce site. The value of \"Bounce Rate\" feature for a web page refers to the percentage of visitors who enter the site from that page and then leave (\"bounce\") without triggering any other requests to the analytics server during that session. The value of \"Exit Rate\" feature for a specific web page is calculated as for all pageviews to the page, the percentage that were the last in the session. The \"Page Value\" feature represents the average value for a web page that a user visited before completing an e-commerce transaction. The \"Special Day\" feature indicates the closeness of the site visiting time to a specific special day (e.g. Mother’s Day, Valentine's Day) in which the sessions are more likely to be finalized with transaction. The value of this attribute is determined by considering the dynamics of e-commerce such as the duration between the order date and delivery date. For example, for Valentina’s day, this value takes a nonzero value between February 2 and February 12, zero before and after this date unless it is close to another special day, and its maximum value of 1 on February 8. The dataset also includes operating system, browser, region, traffic type, visitor type as returning or new visitor, a Boolean value indicating whether the date of the visit is weekend, and month of the year."
   ]
  },
  {
   "cell_type": "markdown",
   "id": "2b89bddb",
   "metadata": {},
   "source": [
    "<b>Aim of the Project:</b></br>\n",
    "  \n",
    "To perform A/B testing using Chi-Square, First  divided the dataset into two groups and then compare the proportion of shoppers who made a purchase in each group. then used a Chi-Square test to determine if the difference in proportions is statistically significant or due to chance."
   ]
  },
  {
   "cell_type": "code",
   "execution_count": 1,
   "id": "7a159156",
   "metadata": {},
   "outputs": [],
   "source": [
    "#import libraries\n",
    "import numpy as np\n",
    "import pandas as pd\n",
    "import seaborn as sns\n",
    "import matplotlib.pyplot as plt\n",
    "import scipy"
   ]
  },
  {
   "cell_type": "code",
   "execution_count": 2,
   "id": "a67dce11",
   "metadata": {},
   "outputs": [],
   "source": [
    "#read the dataset\n",
    "data=pd.read_csv(\"online_shoppers_intention.csv\")"
   ]
  },
  {
   "cell_type": "code",
   "execution_count": 3,
   "id": "fc051cf1",
   "metadata": {},
   "outputs": [
    {
     "data": {
      "text/plain": [
       "(12330, 18)"
      ]
     },
     "execution_count": 3,
     "metadata": {},
     "output_type": "execute_result"
    }
   ],
   "source": [
    "# shape of the data\n",
    "data.shape"
   ]
  },
  {
   "cell_type": "markdown",
   "id": "013077fa",
   "metadata": {},
   "source": [
    "it has 12330 rows and 18 Columns"
   ]
  },
  {
   "cell_type": "code",
   "execution_count": 4,
   "id": "715ce8e0",
   "metadata": {},
   "outputs": [
    {
     "data": {
      "text/html": [
       "<div>\n",
       "<style scoped>\n",
       "    .dataframe tbody tr th:only-of-type {\n",
       "        vertical-align: middle;\n",
       "    }\n",
       "\n",
       "    .dataframe tbody tr th {\n",
       "        vertical-align: top;\n",
       "    }\n",
       "\n",
       "    .dataframe thead th {\n",
       "        text-align: right;\n",
       "    }\n",
       "</style>\n",
       "<table border=\"1\" class=\"dataframe\">\n",
       "  <thead>\n",
       "    <tr style=\"text-align: right;\">\n",
       "      <th></th>\n",
       "      <th>Administrative</th>\n",
       "      <th>Administrative_Duration</th>\n",
       "      <th>Informational</th>\n",
       "      <th>Informational_Duration</th>\n",
       "      <th>ProductRelated</th>\n",
       "      <th>ProductRelated_Duration</th>\n",
       "      <th>BounceRates</th>\n",
       "      <th>ExitRates</th>\n",
       "      <th>PageValues</th>\n",
       "      <th>SpecialDay</th>\n",
       "      <th>Month</th>\n",
       "      <th>OperatingSystems</th>\n",
       "      <th>Browser</th>\n",
       "      <th>Region</th>\n",
       "      <th>TrafficType</th>\n",
       "      <th>VisitorType</th>\n",
       "      <th>Weekend</th>\n",
       "      <th>Revenue</th>\n",
       "    </tr>\n",
       "  </thead>\n",
       "  <tbody>\n",
       "    <tr>\n",
       "      <th>0</th>\n",
       "      <td>0</td>\n",
       "      <td>0.0</td>\n",
       "      <td>0</td>\n",
       "      <td>0.0</td>\n",
       "      <td>1</td>\n",
       "      <td>0.0</td>\n",
       "      <td>0.2</td>\n",
       "      <td>0.2</td>\n",
       "      <td>0.0</td>\n",
       "      <td>0.0</td>\n",
       "      <td>Feb</td>\n",
       "      <td>1</td>\n",
       "      <td>1</td>\n",
       "      <td>1</td>\n",
       "      <td>1</td>\n",
       "      <td>Returning_Visitor</td>\n",
       "      <td>False</td>\n",
       "      <td>False</td>\n",
       "    </tr>\n",
       "    <tr>\n",
       "      <th>1</th>\n",
       "      <td>0</td>\n",
       "      <td>0.0</td>\n",
       "      <td>0</td>\n",
       "      <td>0.0</td>\n",
       "      <td>2</td>\n",
       "      <td>64.0</td>\n",
       "      <td>0.0</td>\n",
       "      <td>0.1</td>\n",
       "      <td>0.0</td>\n",
       "      <td>0.0</td>\n",
       "      <td>Feb</td>\n",
       "      <td>2</td>\n",
       "      <td>2</td>\n",
       "      <td>1</td>\n",
       "      <td>2</td>\n",
       "      <td>Returning_Visitor</td>\n",
       "      <td>False</td>\n",
       "      <td>False</td>\n",
       "    </tr>\n",
       "    <tr>\n",
       "      <th>2</th>\n",
       "      <td>0</td>\n",
       "      <td>0.0</td>\n",
       "      <td>0</td>\n",
       "      <td>0.0</td>\n",
       "      <td>1</td>\n",
       "      <td>0.0</td>\n",
       "      <td>0.2</td>\n",
       "      <td>0.2</td>\n",
       "      <td>0.0</td>\n",
       "      <td>0.0</td>\n",
       "      <td>Feb</td>\n",
       "      <td>4</td>\n",
       "      <td>1</td>\n",
       "      <td>9</td>\n",
       "      <td>3</td>\n",
       "      <td>Returning_Visitor</td>\n",
       "      <td>False</td>\n",
       "      <td>False</td>\n",
       "    </tr>\n",
       "  </tbody>\n",
       "</table>\n",
       "</div>"
      ],
      "text/plain": [
       "   Administrative  Administrative_Duration  Informational  \\\n",
       "0               0                      0.0              0   \n",
       "1               0                      0.0              0   \n",
       "2               0                      0.0              0   \n",
       "\n",
       "   Informational_Duration  ProductRelated  ProductRelated_Duration  \\\n",
       "0                     0.0               1                      0.0   \n",
       "1                     0.0               2                     64.0   \n",
       "2                     0.0               1                      0.0   \n",
       "\n",
       "   BounceRates  ExitRates  PageValues  SpecialDay Month  OperatingSystems  \\\n",
       "0          0.2        0.2         0.0         0.0   Feb                 1   \n",
       "1          0.0        0.1         0.0         0.0   Feb                 2   \n",
       "2          0.2        0.2         0.0         0.0   Feb                 4   \n",
       "\n",
       "   Browser  Region  TrafficType        VisitorType  Weekend  Revenue  \n",
       "0        1       1            1  Returning_Visitor    False    False  \n",
       "1        2       1            2  Returning_Visitor    False    False  \n",
       "2        1       9            3  Returning_Visitor    False    False  "
      ]
     },
     "execution_count": 4,
     "metadata": {},
     "output_type": "execute_result"
    }
   ],
   "source": [
    "# first 3 rows of the data\n",
    "data.head(3)"
   ]
  },
  {
   "cell_type": "code",
   "execution_count": 5,
   "id": "97173c1b",
   "metadata": {},
   "outputs": [
    {
     "data": {
      "text/plain": [
       "Administrative               int64\n",
       "Administrative_Duration    float64\n",
       "Informational                int64\n",
       "Informational_Duration     float64\n",
       "ProductRelated               int64\n",
       "ProductRelated_Duration    float64\n",
       "BounceRates                float64\n",
       "ExitRates                  float64\n",
       "PageValues                 float64\n",
       "SpecialDay                 float64\n",
       "Month                       object\n",
       "OperatingSystems             int64\n",
       "Browser                      int64\n",
       "Region                       int64\n",
       "TrafficType                  int64\n",
       "VisitorType                 object\n",
       "Weekend                       bool\n",
       "Revenue                       bool\n",
       "dtype: object"
      ]
     },
     "execution_count": 5,
     "metadata": {},
     "output_type": "execute_result"
    }
   ],
   "source": [
    "# data type of features\n",
    "data.dtypes"
   ]
  },
  {
   "cell_type": "markdown",
   "id": "73f3ef2c",
   "metadata": {},
   "source": [
    "we have 2 object type features and rest are of numerical type"
   ]
  },
  {
   "cell_type": "code",
   "execution_count": 6,
   "id": "2957c9a7",
   "metadata": {},
   "outputs": [
    {
     "name": "stdout",
     "output_type": "stream",
     "text": [
      "<class 'pandas.core.frame.DataFrame'>\n",
      "RangeIndex: 12330 entries, 0 to 12329\n",
      "Data columns (total 18 columns):\n",
      " #   Column                   Non-Null Count  Dtype  \n",
      "---  ------                   --------------  -----  \n",
      " 0   Administrative           12330 non-null  int64  \n",
      " 1   Administrative_Duration  12330 non-null  float64\n",
      " 2   Informational            12330 non-null  int64  \n",
      " 3   Informational_Duration   12330 non-null  float64\n",
      " 4   ProductRelated           12330 non-null  int64  \n",
      " 5   ProductRelated_Duration  12330 non-null  float64\n",
      " 6   BounceRates              12330 non-null  float64\n",
      " 7   ExitRates                12330 non-null  float64\n",
      " 8   PageValues               12330 non-null  float64\n",
      " 9   SpecialDay               12330 non-null  float64\n",
      " 10  Month                    12330 non-null  object \n",
      " 11  OperatingSystems         12330 non-null  int64  \n",
      " 12  Browser                  12330 non-null  int64  \n",
      " 13  Region                   12330 non-null  int64  \n",
      " 14  TrafficType              12330 non-null  int64  \n",
      " 15  VisitorType              12330 non-null  object \n",
      " 16  Weekend                  12330 non-null  bool   \n",
      " 17  Revenue                  12330 non-null  bool   \n",
      "dtypes: bool(2), float64(7), int64(7), object(2)\n",
      "memory usage: 1.5+ MB\n"
     ]
    }
   ],
   "source": [
    "# info of the dataset\n",
    "data.info()"
   ]
  },
  {
   "cell_type": "markdown",
   "id": "0f6bcd65",
   "metadata": {},
   "source": [
    "there is no null values in the dataset"
   ]
  },
  {
   "cell_type": "code",
   "execution_count": 7,
   "id": "5a6b8521",
   "metadata": {},
   "outputs": [
    {
     "data": {
      "text/html": [
       "<div>\n",
       "<style scoped>\n",
       "    .dataframe tbody tr th:only-of-type {\n",
       "        vertical-align: middle;\n",
       "    }\n",
       "\n",
       "    .dataframe tbody tr th {\n",
       "        vertical-align: top;\n",
       "    }\n",
       "\n",
       "    .dataframe thead th {\n",
       "        text-align: right;\n",
       "    }\n",
       "</style>\n",
       "<table border=\"1\" class=\"dataframe\">\n",
       "  <thead>\n",
       "    <tr style=\"text-align: right;\">\n",
       "      <th></th>\n",
       "      <th>Administrative</th>\n",
       "      <th>Administrative_Duration</th>\n",
       "      <th>Informational</th>\n",
       "      <th>Informational_Duration</th>\n",
       "      <th>ProductRelated</th>\n",
       "      <th>ProductRelated_Duration</th>\n",
       "      <th>BounceRates</th>\n",
       "      <th>ExitRates</th>\n",
       "      <th>PageValues</th>\n",
       "      <th>SpecialDay</th>\n",
       "      <th>Month</th>\n",
       "      <th>OperatingSystems</th>\n",
       "      <th>Browser</th>\n",
       "      <th>Region</th>\n",
       "      <th>TrafficType</th>\n",
       "      <th>VisitorType</th>\n",
       "      <th>Weekend</th>\n",
       "      <th>Revenue</th>\n",
       "    </tr>\n",
       "  </thead>\n",
       "  <tbody>\n",
       "    <tr>\n",
       "      <th>158</th>\n",
       "      <td>0</td>\n",
       "      <td>0.0</td>\n",
       "      <td>0</td>\n",
       "      <td>0.0</td>\n",
       "      <td>1</td>\n",
       "      <td>0.0</td>\n",
       "      <td>0.2</td>\n",
       "      <td>0.2</td>\n",
       "      <td>0.0</td>\n",
       "      <td>0.0</td>\n",
       "      <td>Feb</td>\n",
       "      <td>1</td>\n",
       "      <td>1</td>\n",
       "      <td>1</td>\n",
       "      <td>3</td>\n",
       "      <td>Returning_Visitor</td>\n",
       "      <td>False</td>\n",
       "      <td>False</td>\n",
       "    </tr>\n",
       "    <tr>\n",
       "      <th>159</th>\n",
       "      <td>0</td>\n",
       "      <td>0.0</td>\n",
       "      <td>0</td>\n",
       "      <td>0.0</td>\n",
       "      <td>1</td>\n",
       "      <td>0.0</td>\n",
       "      <td>0.2</td>\n",
       "      <td>0.2</td>\n",
       "      <td>0.0</td>\n",
       "      <td>0.0</td>\n",
       "      <td>Feb</td>\n",
       "      <td>3</td>\n",
       "      <td>2</td>\n",
       "      <td>3</td>\n",
       "      <td>3</td>\n",
       "      <td>Returning_Visitor</td>\n",
       "      <td>False</td>\n",
       "      <td>False</td>\n",
       "    </tr>\n",
       "    <tr>\n",
       "      <th>178</th>\n",
       "      <td>0</td>\n",
       "      <td>0.0</td>\n",
       "      <td>0</td>\n",
       "      <td>0.0</td>\n",
       "      <td>1</td>\n",
       "      <td>0.0</td>\n",
       "      <td>0.2</td>\n",
       "      <td>0.2</td>\n",
       "      <td>0.0</td>\n",
       "      <td>0.0</td>\n",
       "      <td>Feb</td>\n",
       "      <td>3</td>\n",
       "      <td>2</td>\n",
       "      <td>3</td>\n",
       "      <td>3</td>\n",
       "      <td>Returning_Visitor</td>\n",
       "      <td>False</td>\n",
       "      <td>False</td>\n",
       "    </tr>\n",
       "    <tr>\n",
       "      <th>418</th>\n",
       "      <td>0</td>\n",
       "      <td>0.0</td>\n",
       "      <td>0</td>\n",
       "      <td>0.0</td>\n",
       "      <td>1</td>\n",
       "      <td>0.0</td>\n",
       "      <td>0.2</td>\n",
       "      <td>0.2</td>\n",
       "      <td>0.0</td>\n",
       "      <td>0.0</td>\n",
       "      <td>Mar</td>\n",
       "      <td>1</td>\n",
       "      <td>1</td>\n",
       "      <td>1</td>\n",
       "      <td>1</td>\n",
       "      <td>Returning_Visitor</td>\n",
       "      <td>True</td>\n",
       "      <td>False</td>\n",
       "    </tr>\n",
       "    <tr>\n",
       "      <th>456</th>\n",
       "      <td>0</td>\n",
       "      <td>0.0</td>\n",
       "      <td>0</td>\n",
       "      <td>0.0</td>\n",
       "      <td>1</td>\n",
       "      <td>0.0</td>\n",
       "      <td>0.2</td>\n",
       "      <td>0.2</td>\n",
       "      <td>0.0</td>\n",
       "      <td>0.0</td>\n",
       "      <td>Mar</td>\n",
       "      <td>2</td>\n",
       "      <td>2</td>\n",
       "      <td>4</td>\n",
       "      <td>1</td>\n",
       "      <td>Returning_Visitor</td>\n",
       "      <td>False</td>\n",
       "      <td>False</td>\n",
       "    </tr>\n",
       "    <tr>\n",
       "      <th>...</th>\n",
       "      <td>...</td>\n",
       "      <td>...</td>\n",
       "      <td>...</td>\n",
       "      <td>...</td>\n",
       "      <td>...</td>\n",
       "      <td>...</td>\n",
       "      <td>...</td>\n",
       "      <td>...</td>\n",
       "      <td>...</td>\n",
       "      <td>...</td>\n",
       "      <td>...</td>\n",
       "      <td>...</td>\n",
       "      <td>...</td>\n",
       "      <td>...</td>\n",
       "      <td>...</td>\n",
       "      <td>...</td>\n",
       "      <td>...</td>\n",
       "      <td>...</td>\n",
       "    </tr>\n",
       "    <tr>\n",
       "      <th>11934</th>\n",
       "      <td>0</td>\n",
       "      <td>0.0</td>\n",
       "      <td>0</td>\n",
       "      <td>0.0</td>\n",
       "      <td>1</td>\n",
       "      <td>0.0</td>\n",
       "      <td>0.2</td>\n",
       "      <td>0.2</td>\n",
       "      <td>0.0</td>\n",
       "      <td>0.0</td>\n",
       "      <td>Dec</td>\n",
       "      <td>1</td>\n",
       "      <td>1</td>\n",
       "      <td>1</td>\n",
       "      <td>2</td>\n",
       "      <td>New_Visitor</td>\n",
       "      <td>False</td>\n",
       "      <td>False</td>\n",
       "    </tr>\n",
       "    <tr>\n",
       "      <th>11938</th>\n",
       "      <td>0</td>\n",
       "      <td>0.0</td>\n",
       "      <td>0</td>\n",
       "      <td>0.0</td>\n",
       "      <td>1</td>\n",
       "      <td>0.0</td>\n",
       "      <td>0.2</td>\n",
       "      <td>0.2</td>\n",
       "      <td>0.0</td>\n",
       "      <td>0.0</td>\n",
       "      <td>Dec</td>\n",
       "      <td>1</td>\n",
       "      <td>1</td>\n",
       "      <td>4</td>\n",
       "      <td>1</td>\n",
       "      <td>Returning_Visitor</td>\n",
       "      <td>True</td>\n",
       "      <td>False</td>\n",
       "    </tr>\n",
       "    <tr>\n",
       "      <th>12159</th>\n",
       "      <td>0</td>\n",
       "      <td>0.0</td>\n",
       "      <td>0</td>\n",
       "      <td>0.0</td>\n",
       "      <td>1</td>\n",
       "      <td>0.0</td>\n",
       "      <td>0.2</td>\n",
       "      <td>0.2</td>\n",
       "      <td>0.0</td>\n",
       "      <td>0.0</td>\n",
       "      <td>Dec</td>\n",
       "      <td>1</td>\n",
       "      <td>1</td>\n",
       "      <td>1</td>\n",
       "      <td>3</td>\n",
       "      <td>Returning_Visitor</td>\n",
       "      <td>False</td>\n",
       "      <td>False</td>\n",
       "    </tr>\n",
       "    <tr>\n",
       "      <th>12180</th>\n",
       "      <td>0</td>\n",
       "      <td>0.0</td>\n",
       "      <td>0</td>\n",
       "      <td>0.0</td>\n",
       "      <td>1</td>\n",
       "      <td>0.0</td>\n",
       "      <td>0.2</td>\n",
       "      <td>0.2</td>\n",
       "      <td>0.0</td>\n",
       "      <td>0.0</td>\n",
       "      <td>Dec</td>\n",
       "      <td>1</td>\n",
       "      <td>13</td>\n",
       "      <td>9</td>\n",
       "      <td>20</td>\n",
       "      <td>Returning_Visitor</td>\n",
       "      <td>False</td>\n",
       "      <td>False</td>\n",
       "    </tr>\n",
       "    <tr>\n",
       "      <th>12185</th>\n",
       "      <td>0</td>\n",
       "      <td>0.0</td>\n",
       "      <td>0</td>\n",
       "      <td>0.0</td>\n",
       "      <td>1</td>\n",
       "      <td>0.0</td>\n",
       "      <td>0.2</td>\n",
       "      <td>0.2</td>\n",
       "      <td>0.0</td>\n",
       "      <td>0.0</td>\n",
       "      <td>Dec</td>\n",
       "      <td>8</td>\n",
       "      <td>13</td>\n",
       "      <td>9</td>\n",
       "      <td>20</td>\n",
       "      <td>Other</td>\n",
       "      <td>False</td>\n",
       "      <td>False</td>\n",
       "    </tr>\n",
       "  </tbody>\n",
       "</table>\n",
       "<p>125 rows × 18 columns</p>\n",
       "</div>"
      ],
      "text/plain": [
       "       Administrative  Administrative_Duration  Informational  \\\n",
       "158                 0                      0.0              0   \n",
       "159                 0                      0.0              0   \n",
       "178                 0                      0.0              0   \n",
       "418                 0                      0.0              0   \n",
       "456                 0                      0.0              0   \n",
       "...               ...                      ...            ...   \n",
       "11934               0                      0.0              0   \n",
       "11938               0                      0.0              0   \n",
       "12159               0                      0.0              0   \n",
       "12180               0                      0.0              0   \n",
       "12185               0                      0.0              0   \n",
       "\n",
       "       Informational_Duration  ProductRelated  ProductRelated_Duration  \\\n",
       "158                       0.0               1                      0.0   \n",
       "159                       0.0               1                      0.0   \n",
       "178                       0.0               1                      0.0   \n",
       "418                       0.0               1                      0.0   \n",
       "456                       0.0               1                      0.0   \n",
       "...                       ...             ...                      ...   \n",
       "11934                     0.0               1                      0.0   \n",
       "11938                     0.0               1                      0.0   \n",
       "12159                     0.0               1                      0.0   \n",
       "12180                     0.0               1                      0.0   \n",
       "12185                     0.0               1                      0.0   \n",
       "\n",
       "       BounceRates  ExitRates  PageValues  SpecialDay Month  OperatingSystems  \\\n",
       "158            0.2        0.2         0.0         0.0   Feb                 1   \n",
       "159            0.2        0.2         0.0         0.0   Feb                 3   \n",
       "178            0.2        0.2         0.0         0.0   Feb                 3   \n",
       "418            0.2        0.2         0.0         0.0   Mar                 1   \n",
       "456            0.2        0.2         0.0         0.0   Mar                 2   \n",
       "...            ...        ...         ...         ...   ...               ...   \n",
       "11934          0.2        0.2         0.0         0.0   Dec                 1   \n",
       "11938          0.2        0.2         0.0         0.0   Dec                 1   \n",
       "12159          0.2        0.2         0.0         0.0   Dec                 1   \n",
       "12180          0.2        0.2         0.0         0.0   Dec                 1   \n",
       "12185          0.2        0.2         0.0         0.0   Dec                 8   \n",
       "\n",
       "       Browser  Region  TrafficType        VisitorType  Weekend  Revenue  \n",
       "158          1       1            3  Returning_Visitor    False    False  \n",
       "159          2       3            3  Returning_Visitor    False    False  \n",
       "178          2       3            3  Returning_Visitor    False    False  \n",
       "418          1       1            1  Returning_Visitor     True    False  \n",
       "456          2       4            1  Returning_Visitor    False    False  \n",
       "...        ...     ...          ...                ...      ...      ...  \n",
       "11934        1       1            2        New_Visitor    False    False  \n",
       "11938        1       4            1  Returning_Visitor     True    False  \n",
       "12159        1       1            3  Returning_Visitor    False    False  \n",
       "12180       13       9           20  Returning_Visitor    False    False  \n",
       "12185       13       9           20              Other    False    False  \n",
       "\n",
       "[125 rows x 18 columns]"
      ]
     },
     "execution_count": 7,
     "metadata": {},
     "output_type": "execute_result"
    }
   ],
   "source": [
    "# check for duplicate rows\n",
    "data[data.duplicated()]"
   ]
  },
  {
   "cell_type": "code",
   "execution_count": 8,
   "id": "c4121a15",
   "metadata": {},
   "outputs": [
    {
     "data": {
      "text/plain": [
       "Administrative             0\n",
       "Administrative_Duration    0\n",
       "Informational              0\n",
       "Informational_Duration     0\n",
       "ProductRelated             0\n",
       "ProductRelated_Duration    0\n",
       "BounceRates                0\n",
       "ExitRates                  0\n",
       "PageValues                 0\n",
       "SpecialDay                 0\n",
       "Month                      0\n",
       "OperatingSystems           0\n",
       "Browser                    0\n",
       "Region                     0\n",
       "TrafficType                0\n",
       "VisitorType                0\n",
       "Weekend                    0\n",
       "Revenue                    0\n",
       "dtype: int64"
      ]
     },
     "execution_count": 8,
     "metadata": {},
     "output_type": "execute_result"
    }
   ],
   "source": [
    "#check for the null values\n",
    "data.isna().sum()"
   ]
  },
  {
   "cell_type": "markdown",
   "id": "7fabede9",
   "metadata": {},
   "source": [
    "# Our Aim is to see whether the marketing campeign have any good impact on the revenue"
   ]
  },
  {
   "cell_type": "code",
   "execution_count": 9,
   "id": "5bd2a748",
   "metadata": {},
   "outputs": [],
   "source": [
    "# level of Significance : 0.05\n",
    "# Confidence Interval: 95%"
   ]
  },
  {
   "cell_type": "code",
   "execution_count": 10,
   "id": "66e8cc04",
   "metadata": {},
   "outputs": [],
   "source": [
    "#Define hypothesis\n",
    "#H0: the difference in conversion rate is happened due to chance\n",
    "#Ha: there is a statistically significant difference in conversion rate"
   ]
  },
  {
   "cell_type": "code",
   "execution_count": 11,
   "id": "f53fa031",
   "metadata": {},
   "outputs": [],
   "source": [
    "# test Metric\n",
    "# in this case Test Metric: Conversion Rate"
   ]
  },
  {
   "cell_type": "code",
   "execution_count": 12,
   "id": "021a3e68",
   "metadata": {},
   "outputs": [],
   "source": [
    "# test Parameters\n",
    "#significance level: 0.05- means we are willing to take 0.5% of risk/ margin of error\n",
    "#level of Confidence: 95%\n",
    "# power:90%"
   ]
  },
  {
   "cell_type": "code",
   "execution_count": 13,
   "id": "a666a599",
   "metadata": {},
   "outputs": [],
   "source": [
    "# sample the dataset into 2 groups, assuming one samples is before and the other one is after the campaign\n",
    "# here frac specify the size of sampling 50%\n",
    "data_withoutM=data.sample(frac=0.5,random_state=1)\n",
    "data_withM=data.drop(data_withoutM.index)"
   ]
  },
  {
   "cell_type": "markdown",
   "id": "d004b847",
   "metadata": {},
   "source": [
    "In practical case, Sampling is the most crucial part. \n",
    "For sampling in real case scenarios, we need to do the following\n",
    "1. need to define Target population\n",
    "2. need to define sampling frame\n",
    "3. decide sampling method-like simple random sampling, stratified sampling etc.\n",
    "4. Need to calculate sample size- based on factors like precision, resources, time availability\n",
    "4. implement sampling procedure"
   ]
  },
  {
   "cell_type": "code",
   "execution_count": 14,
   "id": "12303a58",
   "metadata": {},
   "outputs": [
    {
     "data": {
      "text/plain": [
       "6165"
      ]
     },
     "execution_count": 14,
     "metadata": {},
     "output_type": "execute_result"
    }
   ],
   "source": [
    "# check the size of data_withoutM\n",
    "data_withoutM.shape[0]"
   ]
  },
  {
   "cell_type": "code",
   "execution_count": 15,
   "id": "2b1228c8",
   "metadata": {},
   "outputs": [
    {
     "data": {
      "text/plain": [
       "6165"
      ]
     },
     "execution_count": 15,
     "metadata": {},
     "output_type": "execute_result"
    }
   ],
   "source": [
    "# checking the no.of rows in data_withM\n",
    "data_withM.shape[0]"
   ]
  },
  {
   "cell_type": "code",
   "execution_count": 16,
   "id": "40f83840",
   "metadata": {},
   "outputs": [],
   "source": [
    "# calculate total number of visitors and Conversion Rate in each group\n",
    "# Conversion rate is the ratio of total Revenue per size\n",
    "\n",
    "len_a=data_withoutM.shape[0]\n",
    "len_b=data_withM.shape[0]\n",
    "\n",
    "Con_Rate_a=data_withoutM['Revenue'].mean()\n",
    "Con_Rate_b=data_withM['Revenue'].mean()\n",
    "\n",
    "purchase_a=data_withoutM['Revenue'].sum()\n",
    "purchase_b=data_withM['Revenue'].sum()"
   ]
  },
  {
   "cell_type": "code",
   "execution_count": 17,
   "id": "75db1184",
   "metadata": {},
   "outputs": [
    {
     "data": {
      "text/plain": [
       "(0.15182481751824817, 0.15766423357664233)"
      ]
     },
     "execution_count": 17,
     "metadata": {},
     "output_type": "execute_result"
    }
   ],
   "source": [
    "# conversion rate of both samples\n",
    "Con_Rate_a,Con_Rate_b"
   ]
  },
  {
   "cell_type": "code",
   "execution_count": 18,
   "id": "2a10c76e",
   "metadata": {},
   "outputs": [
    {
     "data": {
      "text/plain": [
       "(6165, 6165)"
      ]
     },
     "execution_count": 18,
     "metadata": {},
     "output_type": "execute_result"
    }
   ],
   "source": [
    "# size of the samples\n",
    "len_a,len_b"
   ]
  },
  {
   "cell_type": "code",
   "execution_count": 19,
   "id": "53225efa",
   "metadata": {},
   "outputs": [],
   "source": [
    "# now need to check whether this change in conversion is due to by chance or not\n",
    "# we are using chi square test to prove this \n",
    "#with a significance level of 0.5 and 95% confidence"
   ]
  },
  {
   "cell_type": "code",
   "execution_count": 20,
   "id": "7d6b2f08",
   "metadata": {},
   "outputs": [
    {
     "name": "stdout",
     "output_type": "stream",
     "text": [
      "Chi-Square test result:\n",
      "Chi-Square value: 0.7595733625892976\n",
      "P-value: 0.3834620707096291\n",
      "Degrees of freedom: 1\n"
     ]
    }
   ],
   "source": [
    "# Conduct a Chi-Square test\n",
    "observed = [[purchase_a, purchase_b], [len_a - purchase_a, len_b - purchase_b]]\n",
    "chi2, p_value, dof, expected = scipy.stats.chi2_contingency(observed)\n",
    "print('Chi-Square test result:')\n",
    "print('Chi-Square value:', chi2)\n",
    "print('P-value:', p_value)\n",
    "print('Degrees of freedom:', dof)"
   ]
  },
  {
   "cell_type": "code",
   "execution_count": 21,
   "id": "c5d81c8d",
   "metadata": {},
   "outputs": [
    {
     "data": {
      "text/plain": [
       "3.841458820694124"
      ]
     },
     "execution_count": 21,
     "metadata": {},
     "output_type": "execute_result"
    }
   ],
   "source": [
    "#Next, we will calculate the critical value which will help to accept or reject the null hypothesis.\n",
    "\n",
    "critical_value= scipy.stats.chi2.ppf(q = 0.95, # Find the critical value for 95% confidence*\n",
    "                      df = 1)\n",
    "critical_value"
   ]
  },
  {
   "cell_type": "code",
   "execution_count": 22,
   "id": "5d1622d9",
   "metadata": {},
   "outputs": [],
   "source": [
    "# Coclusion:\n",
    "# our test score is less than critical value\n",
    "# Hence we fail to reject null Hypothesis\n",
    "# and accept the fact that change in conversion is happened by chance & there is no significant difference between these two"
   ]
  },
  {
   "cell_type": "code",
   "execution_count": 23,
   "id": "bb9d773e",
   "metadata": {},
   "outputs": [
    {
     "name": "stdout",
     "output_type": "stream",
     "text": [
      "Effect size (Cohen's d): 0.8964360627647052\n"
     ]
    }
   ],
   "source": [
    "# Calculate the effect size\n",
    "# cohen_d indicate how much the two groups differ in terms of the variable being measured\n",
    "# Cohen's d is calculated by taking the difference between the means of two groups and dividing it by the pooled standard deviation of the two groups\n",
    "\n",
    "total_visitors = len_a + len_b\n",
    "total_conv_rate = (purchase_a + purchase_b) / total_visitors\n",
    "pooled_std= (total_conv_rate * (1 - total_conv_rate) * (1/len_a + 1/len_b)) ** 0.5\n",
    "cohen_d = (Con_Rate_b - Con_Rate_a) / pooled_std\n",
    "print('Effect size (Cohen\\'s d):', cohen_d)"
   ]
  },
  {
   "cell_type": "code",
   "execution_count": 24,
   "id": "2fb22383",
   "metadata": {},
   "outputs": [],
   "source": [
    "# Cohen's d value of 0.896 indicating large effect size\n",
    "# that means even if the difference in 2 groups are not statistically significant, it is practically significant and should not be ignored"
   ]
  },
  {
   "cell_type": "markdown",
   "id": "655fc0a0",
   "metadata": {},
   "source": [
    "so we can conclude that large effect size indicating a practical difference between 2 groups, even though we fail to reject null Hypothesis saying 'no significant difference at the chosen level of significance'. "
   ]
  }
 ],
 "metadata": {
  "kernelspec": {
   "display_name": "Python 3 (ipykernel)",
   "language": "python",
   "name": "python3"
  },
  "language_info": {
   "codemirror_mode": {
    "name": "ipython",
    "version": 3
   },
   "file_extension": ".py",
   "mimetype": "text/x-python",
   "name": "python",
   "nbconvert_exporter": "python",
   "pygments_lexer": "ipython3",
   "version": "3.9.13"
  }
 },
 "nbformat": 4,
 "nbformat_minor": 5
}
